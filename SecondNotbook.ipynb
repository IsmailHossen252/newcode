{
 "cells": [
  {
   "cell_type": "code",
   "execution_count": 2,
   "id": "e5bf405a",
   "metadata": {},
   "outputs": [
    {
     "name": "stdout",
     "output_type": "stream",
     "text": [
      "Ismail\n"
     ]
    }
   ],
   "source": [
    "print(\"Ismail\")"
   ]
  },
  {
   "cell_type": "code",
   "execution_count": 3,
   "id": "67e802ba",
   "metadata": {},
   "outputs": [
    {
     "name": "stdout",
     "output_type": "stream",
     "text": [
      "aadkdj\n"
     ]
    }
   ],
   "source": [
    "print(\"aadkdj\")"
   ]
  },
  {
   "cell_type": "code",
   "execution_count": null,
   "id": "7538c6d7",
   "metadata": {},
   "outputs": [],
   "source": []
  }
 ],
 "metadata": {
  "kernelspec": {
   "display_name": "Python 3 (ipykernel)",
   "language": "python",
   "name": "python3"
  },
  "language_info": {
   "codemirror_mode": {
    "name": "ipython",
    "version": 3
   },
   "file_extension": ".py",
   "mimetype": "text/x-python",
   "name": "python",
   "nbconvert_exporter": "python",
   "pygments_lexer": "ipython3",
   "version": "3.11.5"
  }
 },
 "nbformat": 4,
 "nbformat_minor": 5
}
