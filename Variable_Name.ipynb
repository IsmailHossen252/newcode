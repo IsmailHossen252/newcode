{
  "nbformat": 4,
  "nbformat_minor": 0,
  "metadata": {
    "colab": {
      "provenance": [],
      "authorship_tag": "ABX9TyO0VzrMI7a2Ys9RITWBRTzl"
    },
    "kernelspec": {
      "name": "python3",
      "display_name": "Python 3"
    },
    "language_info": {
      "name": "python"
    }
  },
  "cells": [
    {
      "cell_type": "code",
      "execution_count": 3,
      "metadata": {
        "colab": {
          "base_uri": "https://localhost:8080/"
        },
        "id": "MuTev0XiX8Op",
        "outputId": "9c3a1b56-437e-4c6e-9429-25148683806f"
      },
      "outputs": [
        {
          "output_type": "stream",
          "name": "stdout",
          "text": [
            "Legal Legal Var Legal MYVAR\n"
          ]
        }
      ],
      "source": [
        "# Variable Names\n",
        "# can have a short name (like x and y) or a more descriptive name (age, carname, total_volume). Rules for Python variables:\n",
        "# name must start with a letter or the underscore character\n",
        "# cannot start with a number\n",
        "# can only contain alpha-numeric characters and underscores (A-z, 0-9, and _ )\n",
        "# Variable names are case-sensitive (age, Age and AGE are three different variables)\n",
        "# can't be any of the Python keywords\n",
        "\n",
        "#Legal vs Illegal variable\n",
        "myvar='Legal'\n",
        "myVar='Legal Var'\n",
        "MYVAR='Legal MYVAR'\n",
        "#1var='Illegal' # can't start with number\n",
        "_MY_VAR='Legal' # underscore can be used\n",
        "#@var=\"illegal\" # special character can't be used\n",
        "#and=\"illegal\" # python keyword\n",
        "print(myvar, myVar, MYVAR)"
      ]
    },
    {
      "cell_type": "code",
      "source": [
        "#Technique of using multile words in one variable\n",
        "#Camel Case: rest of words will start with Capital letter except first one\n",
        "myVariableNameIs=\"input1\"\n",
        "#Snake Case: need to use underscore between the words\n",
        "my_variable_name_is=\"input2\"\n",
        "print(myVariableNameIs,my_variable_name_is)"
      ],
      "metadata": {
        "colab": {
          "base_uri": "https://localhost:8080/"
        },
        "id": "j_PlgDDmZr5g",
        "outputId": "59be1fce-54cf-4df6-ec01-7145644eb232"
      },
      "execution_count": 6,
      "outputs": [
        {
          "output_type": "stream",
          "name": "stdout",
          "text": [
            "input1 input2\n"
          ]
        }
      ]
    },
    {
      "cell_type": "code",
      "source": [],
      "metadata": {
        "id": "p8jw4VHGdwFj"
      },
      "execution_count": null,
      "outputs": []
    }
  ]
}