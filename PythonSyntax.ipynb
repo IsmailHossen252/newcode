{
  "nbformat": 4,
  "nbformat_minor": 0,
  "metadata": {
    "colab": {
      "provenance": [],
      "authorship_tag": "ABX9TyMu8pg+Bzlnuj1YYlXB7JzH",
      "include_colab_link": true
    },
    "kernelspec": {
      "name": "python3",
      "display_name": "Python 3"
    },
    "language_info": {
      "name": "python"
    }
  },
  "cells": [
    {
      "cell_type": "markdown",
      "metadata": {
        "id": "view-in-github",
        "colab_type": "text"
      },
      "source": [
        "<a href=\"https://colab.research.google.com/github/IsmailHossen252/newcode/blob/main/PythonSyntax.ipynb\" target=\"_parent\"><img src=\"https://colab.research.google.com/assets/colab-badge.svg\" alt=\"Open In Colab\"/></a>"
      ]
    },
    {
      "cell_type": "code",
      "execution_count": null,
      "metadata": {
        "colab": {
          "base_uri": "https://localhost:8080/"
        },
        "id": "rggnVDglD_Cm",
        "outputId": "af3e0f6d-a8bf-492e-983d-3634b0023da8"
      },
      "outputs": [
        {
          "output_type": "stream",
          "name": "stdout",
          "text": [
            "Push the command directly\n"
          ]
        }
      ],
      "source": [
        "#Python Syntax: Python can be easily executed by writting directly the command line, i.e.\n",
        "print(\"Push the command directly\")"
      ]
    },
    {
      "cell_type": "code",
      "source": [
        "#Indentation: put a space while creating a code block, in other code we put space for readability but in python it's really important\n",
        "if 4<7:\n",
        "print(\"The first number is small\")"
      ],
      "metadata": {
        "colab": {
          "base_uri": "https://localhost:8080/",
          "height": 140
        },
        "id": "aqzDPkwjKOTJ",
        "outputId": "2e35ecb5-a060-4f0d-f6aa-9871792efd1a"
      },
      "execution_count": null,
      "outputs": [
        {
          "output_type": "error",
          "ename": "IndentationError",
          "evalue": "expected an indented block after 'if' statement on line 2 (<ipython-input-8-02e819119afe>, line 3)",
          "traceback": [
            "\u001b[0;36m  File \u001b[0;32m\"<ipython-input-8-02e819119afe>\"\u001b[0;36m, line \u001b[0;32m3\u001b[0m\n\u001b[0;31m    print(\"The first number is small\")\u001b[0m\n\u001b[0m    ^\u001b[0m\n\u001b[0;31mIndentationError\u001b[0m\u001b[0;31m:\u001b[0m expected an indented block after 'if' statement on line 2\n"
          ]
        }
      ]
    },
    {
      "cell_type": "code",
      "source": [
        "#expected syntax error: that's why we need to put an Indentation/a space> below the corected code:\n",
        "if 4<8:\n",
        " print(\"The first number is small\")"
      ],
      "metadata": {
        "colab": {
          "base_uri": "https://localhost:8080/"
        },
        "id": "s830Nd5xK_eC",
        "outputId": "d08126aa-b1fc-41db-987e-8c97f3b79249"
      },
      "execution_count": null,
      "outputs": [
        {
          "output_type": "stream",
          "name": "stdout",
          "text": [
            "The first number is small\n"
          ]
        }
      ]
    },
    {
      "cell_type": "code",
      "source": [
        "#The number of given space depends on programmer, but at least one is necessary:\n",
        "if 4<8:\n",
        "      print(\"Eight is greater than four.\")\n",
        "if 3<6:\n",
        "  print(\"Three is less than Six.\")"
      ],
      "metadata": {
        "colab": {
          "base_uri": "https://localhost:8080/"
        },
        "id": "dWRZZc96LppM",
        "outputId": "b6b21315-5d74-4213-9843-824db5fd1c75"
      },
      "execution_count": null,
      "outputs": [
        {
          "output_type": "stream",
          "name": "stdout",
          "text": [
            "Eight is greater than four.\n",
            "Three is less than Six.\n"
          ]
        }
      ]
    },
    {
      "cell_type": "code",
      "source": [],
      "metadata": {
        "id": "mjQEE2TXMj9k"
      },
      "execution_count": null,
      "outputs": []
    }
  ]
}