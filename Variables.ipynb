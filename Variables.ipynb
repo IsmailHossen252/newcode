{
  "nbformat": 4,
  "nbformat_minor": 0,
  "metadata": {
    "colab": {
      "provenance": [],
      "authorship_tag": "ABX9TyPfuzWWmTETOCjGw3cGJjZ8",
      "include_colab_link": true
    },
    "kernelspec": {
      "name": "python3",
      "display_name": "Python 3"
    },
    "language_info": {
      "name": "python"
    }
  },
  "cells": [
    {
      "cell_type": "markdown",
      "metadata": {
        "id": "view-in-github",
        "colab_type": "text"
      },
      "source": [
        "<a href=\"https://colab.research.google.com/github/IsmailHossen252/newcode/blob/main/Variables.ipynb\" target=\"_parent\"><img src=\"https://colab.research.google.com/assets/colab-badge.svg\" alt=\"Open In Colab\"/></a>"
      ]
    },
    {
      "cell_type": "code",
      "execution_count": 10,
      "metadata": {
        "colab": {
          "base_uri": "https://localhost:8080/"
        },
        "id": "kxvh8HLTNxbx",
        "outputId": "5bd3b296-de2b-4cab-ce90-18cbd38f174f"
      },
      "outputs": [
        {
          "output_type": "stream",
          "name": "stdout",
          "text": [
            "100 200 300 John Byrne\n"
          ]
        }
      ],
      "source": [
        "#Creating Variables\n",
        "# Variables are data containers. In python, we don't need to declare variables.\n",
        "x=100 # We can immediately put data to a variable while using first.\n",
        "y=200 # no need to declare the data type as well.\n",
        "FirstName=\"John\" # Double qoute\n",
        "SecondName='Byrne' # Single qoute\n",
        "Y=300 #Case Sensitive\n",
        "print(x,y, Y, FirstName, SecondName)\n"
      ]
    },
    {
      "cell_type": "code",
      "source": [
        "#Casting: Casting is a method to use data type while declaring or assigning value to a variable, i.e.\n",
        "x=int(34.00) #x is int, value will be: 34\n",
        "y=str(34) #y is string, it's not value anymore: '34'\n",
        "z=float(34) # z is float: 34.0\n",
        "print(x,y,z)"
      ],
      "metadata": {
        "colab": {
          "base_uri": "https://localhost:8080/"
        },
        "id": "vlncpMNGOn7N",
        "outputId": "110e4636-6da6-4731-dd81-d01c32d1dae4"
      },
      "execution_count": 5,
      "outputs": [
        {
          "output_type": "stream",
          "name": "stdout",
          "text": [
            "34 34 34.0\n"
          ]
        }
      ]
    },
    {
      "cell_type": "code",
      "source": [
        "#example:\n",
        "a = int(34.00)\n",
        "b = str(45)\n",
        "c = float(56)\n",
        "print(a,',',b,',',c)\n",
        "print(str(a),',',float(b),',',int(c))"
      ],
      "metadata": {
        "colab": {
          "base_uri": "https://localhost:8080/"
        },
        "id": "NcgL_DcAQITH",
        "outputId": "5dcc546d-f7ff-49b3-8111-992af1a37710"
      },
      "execution_count": 8,
      "outputs": [
        {
          "output_type": "stream",
          "name": "stdout",
          "text": [
            "34 , 45 , 56.0\n",
            "34 , 45.0 , 56\n"
          ]
        }
      ]
    },
    {
      "cell_type": "code",
      "source": [
        "# Single"
      ],
      "metadata": {
        "id": "78_MC9hqSLsX"
      },
      "execution_count": null,
      "outputs": []
    }
  ]
}